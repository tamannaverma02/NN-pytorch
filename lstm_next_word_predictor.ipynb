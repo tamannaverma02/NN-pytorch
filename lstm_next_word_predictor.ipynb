{
  "nbformat": 4,
  "nbformat_minor": 0,
  "metadata": {
    "colab": {
      "provenance": []
    },
    "kernelspec": {
      "name": "python3",
      "display_name": "Python 3"
    },
    "language_info": {
      "name": "python"
    }
  },
  "cells": [
    {
      "cell_type": "code",
      "execution_count": 40,
      "metadata": {
        "colab": {
          "base_uri": "https://localhost:8080/"
        },
        "id": "l6V8bKjDkSNu",
        "outputId": "7a57e05f-20c6-474c-d0a3-7d01783ceb63"
      },
      "outputs": [
        {
          "output_type": "stream",
          "name": "stdout",
          "text": [
            "Requirement already satisfied: nltk in /usr/local/lib/python3.11/dist-packages (3.9.1)\n",
            "Requirement already satisfied: click in /usr/local/lib/python3.11/dist-packages (from nltk) (8.1.8)\n",
            "Requirement already satisfied: joblib in /usr/local/lib/python3.11/dist-packages (from nltk) (1.4.2)\n",
            "Requirement already satisfied: regex>=2021.8.3 in /usr/local/lib/python3.11/dist-packages (from nltk) (2024.11.6)\n",
            "Requirement already satisfied: tqdm in /usr/local/lib/python3.11/dist-packages (from nltk) (4.67.1)\n"
          ]
        }
      ],
      "source": [
        "!pip install nltk"
      ]
    },
    {
      "cell_type": "code",
      "source": [
        "import torch\n",
        "import torch.nn as nn\n",
        "import torch.optim as optim\n",
        "import numpy as np\n",
        "from collections import Counter\n",
        "from torch.utils.data import Dataset, DataLoader\n",
        "from nltk.tokenize import word_tokenize\n",
        "import nltk"
      ],
      "metadata": {
        "id": "zGMGfBrlkbrP"
      },
      "execution_count": 39,
      "outputs": []
    },
    {
      "cell_type": "code",
      "source": [
        "document = \"\"\"Photography Masterclass Program 2024\n",
        "About the Program\n",
        "What is the Photography Masterclass Program (PMP 2024)?\n",
        "The Photography Masterclass Program (PMP 2024) is a comprehensive, immersive course designed for aspiring photographers, hobbyists, and professionals looking to elevate their skills in photography and visual storytelling. This program covers everything from the basics of camera operation to advanced editing techniques and portfolio development.\n",
        "What is the course fee for the Photography Masterclass Program?\n",
        "The course operates on a flexible subscription model:\n",
        "\n",
        "Monthly Subscription: Rs 999/month for 9 months.\n",
        "One-Time Payment Option: Rs 8500 (saving approximately Rs 500 compared to monthly payments).\n",
        "Early Bird Discount: Rs 8000 if paid in full before January 15, 2024.\n",
        "\n",
        "What is the total duration of the course?\n",
        "The program spans 9 months, with a mix of live sessions, recorded content, practical assignments, and mentorship. The total cost for the monthly subscription is 999 * 9 = Rs 8991.\n",
        "What is the syllabus of the Photography Masterclass Program?\n",
        "The program is divided into the following modules:\n",
        "\n",
        "Photography Fundamentals:\n",
        "Understanding camera types (DSLR, mirrorless, point-and-shoot).\n",
        "Exposure triangle: Aperture, Shutter Speed, ISO.\n",
        "Composition and framing techniques.\n",
        "\n",
        "\n",
        "Lighting Techniques:\n",
        "Natural vs. artificial lighting.\n",
        "Studio lighting setups.\n",
        "Light modifiers (softboxes, reflectors, diffusers).\n",
        "\n",
        "\n",
        "Genres of Photography:\n",
        "Portrait photography.\n",
        "Landscape and nature photography.\n",
        "Street and documentary photography.\n",
        "Product and commercial photography.\n",
        "\n",
        "\n",
        "Post-Processing:\n",
        "Introduction to Adobe Lightroom and Photoshop.\n",
        "Color grading and retouching.\n",
        "Creating presets and batch editing.\n",
        "\n",
        "\n",
        "Videography Basics:\n",
        "Introduction to video recording with DSLRs/mirrorless cameras.\n",
        "Storytelling through video.\n",
        "Basic video editing in Adobe Premiere Pro.\n",
        "\n",
        "\n",
        "Portfolio Development:\n",
        "Building a professional portfolio.\n",
        "Creating an online presence (website, social media).\n",
        "Curating work for exhibitions or clients.\n",
        "\n",
        "\n",
        "Business of Photography:\n",
        "Freelancing and client management.\n",
        "Pricing your work and creating contracts.\n",
        "Marketing strategies for photographers.\n",
        "\n",
        "\n",
        "Advanced Techniques:\n",
        "Long-exposure photography.\n",
        "Macro photography.\n",
        "Drone photography basics.\n",
        "\n",
        "\n",
        "Case Studies and Real-World Projects:\n",
        "Analyzing iconic photographs.\n",
        "Collaborative group projects.\n",
        "Client simulation projects.\n",
        "\n",
        "\n",
        "\n",
        "For a detailed syllabus, visit: PMP Syllabus.\n",
        "Will specialized topics like Astrophotography or Underwater Photography be covered?\n",
        "No, specialized topics such as astrophotography, underwater photography, or wildlife photography are not part of the core curriculum. However, we offer optional weekend workshops for these topics at an additional cost of Rs 1500 per workshop.\n",
        "What if I miss a live session? Will I get a recording of the session?\n",
        "Yes, all live sessions are recorded and uploaded to your course dashboard within 24 hours. You can access recordings anytime during your subscription period.\n",
        "Where can I find the class schedule?\n",
        "The detailed class schedule is available on this Google Sheet: PMP 2024 Schedule. The schedule is updated monthly.\n",
        "What is the duration of the live sessions?\n",
        "Live sessions typically last 2.5 hours, with 2 hours of instruction and 30 minutes for Q&A and discussions.\n",
        "What is the language of instruction?\n",
        "The sessions are conducted in English, with occasional explanations in Hindi for complex topics to ensure clarity for all participants.\n",
        "How will I be notified about upcoming classes?\n",
        "Once enrolled, you will receive email reminders 48 hours and 1 hour before each live session. You’ll also get calendar invites for easy tracking.\n",
        "Can I join the program if I don’t own a professional camera?\n",
        "Yes, the program is designed for all levels. While a DSLR or mirrorless camera is recommended, you can start with a smartphone or point-and-shoot camera. We also provide guidance on affordable gear upgrades.\n",
        "Can I join the program late?\n",
        "Yes, you can join at any time. All past sessions and resources are available on your dashboard once you enroll.\n",
        "If I join late, will I have access to past content?\n",
        "Absolutely. Upon payment, you gain access to all previous recordings, assignments, and resources for the duration of your subscription.\n",
        "Where do I submit assignments?\n",
        "Assignments are submitted via your course dashboard. You’ll receive feedback from instructors within 7 days. Some assignments are self-evaluated with provided solutions.\n",
        "Will we work on real-world projects?\n",
        "Yes, the program includes:\n",
        "\n",
        "Simulated client projects.\n",
        "Group photo shoots.\n",
        "Case studies of famous photographers’ work.\n",
        "A capstone project to build your portfolio.\n",
        "\n",
        "Where can I contact the team?\n",
        "For any queries, email us at: support@photographymasterclass.in.\n",
        "Payment and Registration\n",
        "Where do I make payments?\n",
        "Payments are made exclusively on our official website: Photography Masterclass Website.\n",
        "Can I pay the entire course fee upfront?\n",
        "Yes, you can pay Rs 8500 upfront or opt for the early bird discount of Rs 8000 if paid before January 15, 2024.\n",
        "What is the validity of the monthly subscription?\n",
        "The monthly subscription is valid for 30 days from the date of payment. For example, if you pay on March 10, your subscription is valid until April 9.\n",
        "What is the refund policy?\n",
        "We offer a 10-day money-back guarantee from the date of your first payment. If you’re unsatisfied, email us at support@photographymasterclass.in to request a refund.\n",
        "I’m outside India and unable to pay on the website. What should I do?\n",
        "Please contact us at support@photographymasterclass.in for alternative payment options, such as PayPal or bank transfer.\n",
        "Are there any additional costs?\n",
        "The course fee covers all core content. Optional workshops (e.g., astrophotography) cost Rs 1500 each. You may also need to invest in gear (e.g., tripod, lenses) depending on your current equipment.\n",
        "Post-Registration Queries\n",
        "How long can I access the course content?\n",
        "\n",
        "Monthly Subscribers: You can access all content (past and current) during your active 30-day subscription period.\n",
        "Full Payment Users: After completing the course (9 months or Rs 8500 paid), you’ll have access to all content until December 2025.\n",
        "Early Bird Users: Same as full payment users, with access until December 2025.\n",
        "\n",
        "Why is lifetime access not provided?\n",
        "To keep the course affordable, we limit access to December 2025. This allows us to maintain high-quality content and instructor support.\n",
        "How do I resolve doubts after a session?\n",
        "\n",
        "Post-session Q&A forms are available on your dashboard.\n",
        "You can book 1-on-1 doubt-clearing sessions (30 minutes) with instructors for Rs 500 per session.\n",
        "A community forum is available for peer discussions.\n",
        "\n",
        "Can I ask doubts from past sessions if I join late?\n",
        "Yes, you can submit doubts from any past session via the doubt-clearing form on your dashboard.\n",
        "What if I face technical issues accessing the platform?\n",
        "Contact our tech support team at tech@photographymasterclass.in. We aim to resolve issues within 24 hours.\n",
        "Certificate and Career Support\n",
        "What are the criteria for earning a certificate?\n",
        "To receive a certificate, you must:\n",
        "\n",
        "Complete all 9 months of the program (or pay the full Rs 8500).\n",
        "Submit at least 80% of the assignments.\n",
        "Complete the capstone portfolio project.\n",
        "\n",
        "If I join late, how do I pay for earlier months?\n",
        "Once you pay for the current month, your dashboard will provide a link to pay for previous months’ access retroactively.\n",
        "What is included in career support?\n",
        "Career support includes:\n",
        "\n",
        "Portfolio Reviews: Feedback from industry professionals.\n",
        "Resume and Cover Letter Workshops: Tailored for creative industries.\n",
        "Freelance Guidance: Sessions on pitching to clients and setting rates.\n",
        "Networking Opportunities: Invitations to virtual and in-person photography meetups.\n",
        "Job Board Access: A curated list of photography-related opportunities.\n",
        "\n",
        "Note: Career support does not guarantee jobs or client contracts but equips you with tools to succeed.\n",
        "Can I showcase my certificate on LinkedIn?\n",
        "Yes, the certificate is verifiable and can be added to your LinkedIn profile or portfolio.\n",
        "Will there be opportunities to exhibit my work?\n",
        "Yes, top students will be invited to showcase their work at our annual PMP Virtual Gallery Exhibition in January 2026. Select works may also be featured on our website and social media.\n",
        "Additional Information\n",
        "Is there a community for PMP students?\n",
        "Yes, we have a private Discord server for PMP students to share work, ask questions, and collaborate on projects.\n",
        "Are there any prerequisites?\n",
        "No prior experience is required. A passion for photography and access to any camera (even a smartphone) are enough to start.\n",
        "Can I upgrade from monthly to full payment later?\n",
        "Yes, you can switch to the full payment plan at any time. The remaining balance will be adjusted based on your prior payments.\n",
        "What equipment do I need?\n",
        "\n",
        "Mandatory: A camera (smartphone, point-and-shoot, DSLR, or mirrorless).\n",
        "Recommended: A tripod, basic lighting kit, and a computer for editing.\n",
        "Optional: Lenses, filters, or drones for advanced modules.\n",
        "\n",
        "Are there any discounts for students or groups?\n",
        "\n",
        "Student Discount: 10% off for students with valid ID (email support@photographymasterclass.in).\n",
        "Group Discount: 15% off for groups of 3+ (contact us for details).\n",
        "\n",
        "How is the program different from free online tutorials?\n",
        "Unlike free tutorials, PMP offers:\n",
        "\n",
        "Structured, mentor-led learning.\n",
        "Personalized feedback on assignments.\n",
        "Career support and networking.\n",
        "A certificate recognized in the creative industry.\n",
        "\n",
        "For any further questions, reach out to us at support@photographymasterclass.in. We’re excited to help you capture the world through your lens!\n",
        "\n",
        "\"\"\"\n"
      ],
      "metadata": {
        "id": "sPUxdoL9ki8V"
      },
      "execution_count": 41,
      "outputs": []
    },
    {
      "cell_type": "code",
      "source": [
        "# Tokenization\n",
        "nltk.download('punkt')\n",
        "nltk.download('punkt_tab')"
      ],
      "metadata": {
        "colab": {
          "base_uri": "https://localhost:8080/"
        },
        "id": "LNmYZbSkkuOf",
        "outputId": "ffd7ff3b-885a-4906-8533-e326c022688e"
      },
      "execution_count": 42,
      "outputs": [
        {
          "output_type": "stream",
          "name": "stderr",
          "text": [
            "[nltk_data] Downloading package punkt to /root/nltk_data...\n",
            "[nltk_data]   Package punkt is already up-to-date!\n",
            "[nltk_data] Downloading package punkt_tab to /root/nltk_data...\n",
            "[nltk_data]   Package punkt_tab is already up-to-date!\n"
          ]
        },
        {
          "output_type": "execute_result",
          "data": {
            "text/plain": [
              "True"
            ]
          },
          "metadata": {},
          "execution_count": 42
        }
      ]
    },
    {
      "cell_type": "code",
      "source": [
        "# tokenize\n",
        "tokens = word_tokenize(document.lower()) #convert words to lower case and tokenize"
      ],
      "metadata": {
        "id": "J947FGsSkyjD"
      },
      "execution_count": 43,
      "outputs": []
    },
    {
      "cell_type": "code",
      "source": [
        "# build vocab\n",
        "vocab = {'<unk>':0}\n",
        "\n",
        "for token in Counter(tokens).keys(): #unique tokens\n",
        "  if token not in vocab:\n",
        "    vocab[token] = len(vocab) #add token to vocab  and index of each token = curr length of vocab\n",
        "\n",
        "vocab"
      ],
      "metadata": {
        "colab": {
          "base_uri": "https://localhost:8080/"
        },
        "id": "RQAPhKJCk8O3",
        "outputId": "36886f72-51d7-4f8e-e8ec-d8828c22db0b"
      },
      "execution_count": 44,
      "outputs": [
        {
          "output_type": "execute_result",
          "data": {
            "text/plain": [
              "{'<unk>': 0,\n",
              " 'photography': 1,\n",
              " 'masterclass': 2,\n",
              " 'program': 3,\n",
              " '2024': 4,\n",
              " 'about': 5,\n",
              " 'the': 6,\n",
              " 'what': 7,\n",
              " 'is': 8,\n",
              " '(': 9,\n",
              " 'pmp': 10,\n",
              " ')': 11,\n",
              " '?': 12,\n",
              " 'a': 13,\n",
              " 'comprehensive': 14,\n",
              " ',': 15,\n",
              " 'immersive': 16,\n",
              " 'course': 17,\n",
              " 'designed': 18,\n",
              " 'for': 19,\n",
              " 'aspiring': 20,\n",
              " 'photographers': 21,\n",
              " 'hobbyists': 22,\n",
              " 'and': 23,\n",
              " 'professionals': 24,\n",
              " 'looking': 25,\n",
              " 'to': 26,\n",
              " 'elevate': 27,\n",
              " 'their': 28,\n",
              " 'skills': 29,\n",
              " 'in': 30,\n",
              " 'visual': 31,\n",
              " 'storytelling': 32,\n",
              " '.': 33,\n",
              " 'this': 34,\n",
              " 'covers': 35,\n",
              " 'everything': 36,\n",
              " 'from': 37,\n",
              " 'basics': 38,\n",
              " 'of': 39,\n",
              " 'camera': 40,\n",
              " 'operation': 41,\n",
              " 'advanced': 42,\n",
              " 'editing': 43,\n",
              " 'techniques': 44,\n",
              " 'portfolio': 45,\n",
              " 'development': 46,\n",
              " 'fee': 47,\n",
              " 'operates': 48,\n",
              " 'on': 49,\n",
              " 'flexible': 50,\n",
              " 'subscription': 51,\n",
              " 'model': 52,\n",
              " ':': 53,\n",
              " 'monthly': 54,\n",
              " 'rs': 55,\n",
              " '999/month': 56,\n",
              " '9': 57,\n",
              " 'months': 58,\n",
              " 'one-time': 59,\n",
              " 'payment': 60,\n",
              " 'option': 61,\n",
              " '8500': 62,\n",
              " 'saving': 63,\n",
              " 'approximately': 64,\n",
              " '500': 65,\n",
              " 'compared': 66,\n",
              " 'payments': 67,\n",
              " 'early': 68,\n",
              " 'bird': 69,\n",
              " 'discount': 70,\n",
              " '8000': 71,\n",
              " 'if': 72,\n",
              " 'paid': 73,\n",
              " 'full': 74,\n",
              " 'before': 75,\n",
              " 'january': 76,\n",
              " '15': 77,\n",
              " '2024.': 78,\n",
              " 'total': 79,\n",
              " 'duration': 80,\n",
              " 'spans': 81,\n",
              " 'with': 82,\n",
              " 'mix': 83,\n",
              " 'live': 84,\n",
              " 'sessions': 85,\n",
              " 'recorded': 86,\n",
              " 'content': 87,\n",
              " 'practical': 88,\n",
              " 'assignments': 89,\n",
              " 'mentorship': 90,\n",
              " 'cost': 91,\n",
              " '999': 92,\n",
              " '*': 93,\n",
              " '=': 94,\n",
              " '8991.': 95,\n",
              " 'syllabus': 96,\n",
              " 'divided': 97,\n",
              " 'into': 98,\n",
              " 'following': 99,\n",
              " 'modules': 100,\n",
              " 'fundamentals': 101,\n",
              " 'understanding': 102,\n",
              " 'types': 103,\n",
              " 'dslr': 104,\n",
              " 'mirrorless': 105,\n",
              " 'point-and-shoot': 106,\n",
              " 'exposure': 107,\n",
              " 'triangle': 108,\n",
              " 'aperture': 109,\n",
              " 'shutter': 110,\n",
              " 'speed': 111,\n",
              " 'iso': 112,\n",
              " 'composition': 113,\n",
              " 'framing': 114,\n",
              " 'lighting': 115,\n",
              " 'natural': 116,\n",
              " 'vs.': 117,\n",
              " 'artificial': 118,\n",
              " 'studio': 119,\n",
              " 'setups': 120,\n",
              " 'light': 121,\n",
              " 'modifiers': 122,\n",
              " 'softboxes': 123,\n",
              " 'reflectors': 124,\n",
              " 'diffusers': 125,\n",
              " 'genres': 126,\n",
              " 'portrait': 127,\n",
              " 'landscape': 128,\n",
              " 'nature': 129,\n",
              " 'street': 130,\n",
              " 'documentary': 131,\n",
              " 'product': 132,\n",
              " 'commercial': 133,\n",
              " 'post-processing': 134,\n",
              " 'introduction': 135,\n",
              " 'adobe': 136,\n",
              " 'lightroom': 137,\n",
              " 'photoshop': 138,\n",
              " 'color': 139,\n",
              " 'grading': 140,\n",
              " 'retouching': 141,\n",
              " 'creating': 142,\n",
              " 'presets': 143,\n",
              " 'batch': 144,\n",
              " 'videography': 145,\n",
              " 'video': 146,\n",
              " 'recording': 147,\n",
              " 'dslrs/mirrorless': 148,\n",
              " 'cameras': 149,\n",
              " 'through': 150,\n",
              " 'basic': 151,\n",
              " 'premiere': 152,\n",
              " 'pro': 153,\n",
              " 'building': 154,\n",
              " 'professional': 155,\n",
              " 'an': 156,\n",
              " 'online': 157,\n",
              " 'presence': 158,\n",
              " 'website': 159,\n",
              " 'social': 160,\n",
              " 'media': 161,\n",
              " 'curating': 162,\n",
              " 'work': 163,\n",
              " 'exhibitions': 164,\n",
              " 'or': 165,\n",
              " 'clients': 166,\n",
              " 'business': 167,\n",
              " 'freelancing': 168,\n",
              " 'client': 169,\n",
              " 'management': 170,\n",
              " 'pricing': 171,\n",
              " 'your': 172,\n",
              " 'contracts': 173,\n",
              " 'marketing': 174,\n",
              " 'strategies': 175,\n",
              " 'long-exposure': 176,\n",
              " 'macro': 177,\n",
              " 'drone': 178,\n",
              " 'case': 179,\n",
              " 'studies': 180,\n",
              " 'real-world': 181,\n",
              " 'projects': 182,\n",
              " 'analyzing': 183,\n",
              " 'iconic': 184,\n",
              " 'photographs': 185,\n",
              " 'collaborative': 186,\n",
              " 'group': 187,\n",
              " 'simulation': 188,\n",
              " 'detailed': 189,\n",
              " 'visit': 190,\n",
              " 'will': 191,\n",
              " 'specialized': 192,\n",
              " 'topics': 193,\n",
              " 'like': 194,\n",
              " 'astrophotography': 195,\n",
              " 'underwater': 196,\n",
              " 'be': 197,\n",
              " 'covered': 198,\n",
              " 'no': 199,\n",
              " 'such': 200,\n",
              " 'as': 201,\n",
              " 'wildlife': 202,\n",
              " 'are': 203,\n",
              " 'not': 204,\n",
              " 'part': 205,\n",
              " 'core': 206,\n",
              " 'curriculum': 207,\n",
              " 'however': 208,\n",
              " 'we': 209,\n",
              " 'offer': 210,\n",
              " 'optional': 211,\n",
              " 'weekend': 212,\n",
              " 'workshops': 213,\n",
              " 'these': 214,\n",
              " 'at': 215,\n",
              " 'additional': 216,\n",
              " '1500': 217,\n",
              " 'per': 218,\n",
              " 'workshop': 219,\n",
              " 'i': 220,\n",
              " 'miss': 221,\n",
              " 'session': 222,\n",
              " 'get': 223,\n",
              " 'yes': 224,\n",
              " 'all': 225,\n",
              " 'uploaded': 226,\n",
              " 'dashboard': 227,\n",
              " 'within': 228,\n",
              " '24': 229,\n",
              " 'hours': 230,\n",
              " 'you': 231,\n",
              " 'can': 232,\n",
              " 'access': 233,\n",
              " 'recordings': 234,\n",
              " 'anytime': 235,\n",
              " 'during': 236,\n",
              " 'period': 237,\n",
              " 'where': 238,\n",
              " 'find': 239,\n",
              " 'class': 240,\n",
              " 'schedule': 241,\n",
              " 'available': 242,\n",
              " 'google': 243,\n",
              " 'sheet': 244,\n",
              " 'updated': 245,\n",
              " 'typically': 246,\n",
              " 'last': 247,\n",
              " '2.5': 248,\n",
              " '2': 249,\n",
              " 'instruction': 250,\n",
              " '30': 251,\n",
              " 'minutes': 252,\n",
              " 'q': 253,\n",
              " '&': 254,\n",
              " 'discussions': 255,\n",
              " 'language': 256,\n",
              " 'conducted': 257,\n",
              " 'english': 258,\n",
              " 'occasional': 259,\n",
              " 'explanations': 260,\n",
              " 'hindi': 261,\n",
              " 'complex': 262,\n",
              " 'ensure': 263,\n",
              " 'clarity': 264,\n",
              " 'participants': 265,\n",
              " 'how': 266,\n",
              " 'notified': 267,\n",
              " 'upcoming': 268,\n",
              " 'classes': 269,\n",
              " 'once': 270,\n",
              " 'enrolled': 271,\n",
              " 'receive': 272,\n",
              " 'email': 273,\n",
              " 'reminders': 274,\n",
              " '48': 275,\n",
              " '1': 276,\n",
              " 'hour': 277,\n",
              " 'each': 278,\n",
              " '’': 279,\n",
              " 'll': 280,\n",
              " 'also': 281,\n",
              " 'calendar': 282,\n",
              " 'invites': 283,\n",
              " 'easy': 284,\n",
              " 'tracking': 285,\n",
              " 'join': 286,\n",
              " 'don': 287,\n",
              " 't': 288,\n",
              " 'own': 289,\n",
              " 'levels': 290,\n",
              " 'while': 291,\n",
              " 'recommended': 292,\n",
              " 'start': 293,\n",
              " 'smartphone': 294,\n",
              " 'provide': 295,\n",
              " 'guidance': 296,\n",
              " 'affordable': 297,\n",
              " 'gear': 298,\n",
              " 'upgrades': 299,\n",
              " 'late': 300,\n",
              " 'any': 301,\n",
              " 'time': 302,\n",
              " 'past': 303,\n",
              " 'resources': 304,\n",
              " 'enroll': 305,\n",
              " 'have': 306,\n",
              " 'absolutely': 307,\n",
              " 'upon': 308,\n",
              " 'gain': 309,\n",
              " 'previous': 310,\n",
              " 'do': 311,\n",
              " 'submit': 312,\n",
              " 'submitted': 313,\n",
              " 'via': 314,\n",
              " 'feedback': 315,\n",
              " 'instructors': 316,\n",
              " '7': 317,\n",
              " 'days': 318,\n",
              " 'some': 319,\n",
              " 'self-evaluated': 320,\n",
              " 'provided': 321,\n",
              " 'solutions': 322,\n",
              " 'includes': 323,\n",
              " 'simulated': 324,\n",
              " 'photo': 325,\n",
              " 'shoots': 326,\n",
              " 'famous': 327,\n",
              " 'capstone': 328,\n",
              " 'project': 329,\n",
              " 'build': 330,\n",
              " 'contact': 331,\n",
              " 'team': 332,\n",
              " 'queries': 333,\n",
              " 'us': 334,\n",
              " 'support': 335,\n",
              " '@': 336,\n",
              " 'photographymasterclass.in': 337,\n",
              " 'registration': 338,\n",
              " 'make': 339,\n",
              " 'made': 340,\n",
              " 'exclusively': 341,\n",
              " 'our': 342,\n",
              " 'official': 343,\n",
              " 'pay': 344,\n",
              " 'entire': 345,\n",
              " 'upfront': 346,\n",
              " 'opt': 347,\n",
              " 'validity': 348,\n",
              " 'valid': 349,\n",
              " 'date': 350,\n",
              " 'example': 351,\n",
              " 'march': 352,\n",
              " '10': 353,\n",
              " 'until': 354,\n",
              " 'april': 355,\n",
              " '9.': 356,\n",
              " 'refund': 357,\n",
              " 'policy': 358,\n",
              " '10-day': 359,\n",
              " 'money-back': 360,\n",
              " 'guarantee': 361,\n",
              " 'first': 362,\n",
              " 're': 363,\n",
              " 'unsatisfied': 364,\n",
              " 'request': 365,\n",
              " 'm': 366,\n",
              " 'outside': 367,\n",
              " 'india': 368,\n",
              " 'unable': 369,\n",
              " 'should': 370,\n",
              " 'please': 371,\n",
              " 'alternative': 372,\n",
              " 'options': 373,\n",
              " 'paypal': 374,\n",
              " 'bank': 375,\n",
              " 'transfer': 376,\n",
              " 'there': 377,\n",
              " 'costs': 378,\n",
              " 'e.g.': 379,\n",
              " 'may': 380,\n",
              " 'need': 381,\n",
              " 'invest': 382,\n",
              " 'tripod': 383,\n",
              " 'lenses': 384,\n",
              " 'depending': 385,\n",
              " 'current': 386,\n",
              " 'equipment': 387,\n",
              " 'post-registration': 388,\n",
              " 'long': 389,\n",
              " 'subscribers': 390,\n",
              " 'active': 391,\n",
              " '30-day': 392,\n",
              " 'users': 393,\n",
              " 'after': 394,\n",
              " 'completing': 395,\n",
              " 'december': 396,\n",
              " '2025.': 397,\n",
              " 'same': 398,\n",
              " 'why': 399,\n",
              " 'lifetime': 400,\n",
              " 'keep': 401,\n",
              " 'limit': 402,\n",
              " 'allows': 403,\n",
              " 'maintain': 404,\n",
              " 'high-quality': 405,\n",
              " 'instructor': 406,\n",
              " 'resolve': 407,\n",
              " 'doubts': 408,\n",
              " 'post-session': 409,\n",
              " 'forms': 410,\n",
              " 'book': 411,\n",
              " '1-on-1': 412,\n",
              " 'doubt-clearing': 413,\n",
              " 'community': 414,\n",
              " 'forum': 415,\n",
              " 'peer': 416,\n",
              " 'ask': 417,\n",
              " 'form': 418,\n",
              " 'face': 419,\n",
              " 'technical': 420,\n",
              " 'issues': 421,\n",
              " 'accessing': 422,\n",
              " 'platform': 423,\n",
              " 'tech': 424,\n",
              " 'aim': 425,\n",
              " 'certificate': 426,\n",
              " 'career': 427,\n",
              " 'criteria': 428,\n",
              " 'earning': 429,\n",
              " 'must': 430,\n",
              " 'complete': 431,\n",
              " 'least': 432,\n",
              " '80': 433,\n",
              " '%': 434,\n",
              " 'earlier': 435,\n",
              " 'month': 436,\n",
              " 'link': 437,\n",
              " 'retroactively': 438,\n",
              " 'included': 439,\n",
              " 'reviews': 440,\n",
              " 'industry': 441,\n",
              " 'resume': 442,\n",
              " 'cover': 443,\n",
              " 'letter': 444,\n",
              " 'tailored': 445,\n",
              " 'creative': 446,\n",
              " 'industries': 447,\n",
              " 'freelance': 448,\n",
              " 'pitching': 449,\n",
              " 'setting': 450,\n",
              " 'rates': 451,\n",
              " 'networking': 452,\n",
              " 'opportunities': 453,\n",
              " 'invitations': 454,\n",
              " 'virtual': 455,\n",
              " 'in-person': 456,\n",
              " 'meetups': 457,\n",
              " 'job': 458,\n",
              " 'board': 459,\n",
              " 'curated': 460,\n",
              " 'list': 461,\n",
              " 'photography-related': 462,\n",
              " 'note': 463,\n",
              " 'does': 464,\n",
              " 'jobs': 465,\n",
              " 'but': 466,\n",
              " 'equips': 467,\n",
              " 'tools': 468,\n",
              " 'succeed': 469,\n",
              " 'showcase': 470,\n",
              " 'my': 471,\n",
              " 'linkedin': 472,\n",
              " 'verifiable': 473,\n",
              " 'added': 474,\n",
              " 'profile': 475,\n",
              " 'exhibit': 476,\n",
              " 'top': 477,\n",
              " 'students': 478,\n",
              " 'invited': 479,\n",
              " 'annual': 480,\n",
              " 'gallery': 481,\n",
              " 'exhibition': 482,\n",
              " '2026.': 483,\n",
              " 'select': 484,\n",
              " 'works': 485,\n",
              " 'featured': 486,\n",
              " 'information': 487,\n",
              " 'private': 488,\n",
              " 'discord': 489,\n",
              " 'server': 490,\n",
              " 'share': 491,\n",
              " 'questions': 492,\n",
              " 'collaborate': 493,\n",
              " 'prerequisites': 494,\n",
              " 'prior': 495,\n",
              " 'experience': 496,\n",
              " 'required': 497,\n",
              " 'passion': 498,\n",
              " 'even': 499,\n",
              " 'enough': 500,\n",
              " 'upgrade': 501,\n",
              " 'later': 502,\n",
              " 'switch': 503,\n",
              " 'plan': 504,\n",
              " 'remaining': 505,\n",
              " 'balance': 506,\n",
              " 'adjusted': 507,\n",
              " 'based': 508,\n",
              " 'mandatory': 509,\n",
              " 'kit': 510,\n",
              " 'computer': 511,\n",
              " 'filters': 512,\n",
              " 'drones': 513,\n",
              " 'discounts': 514,\n",
              " 'groups': 515,\n",
              " 'student': 516,\n",
              " 'off': 517,\n",
              " 'id': 518,\n",
              " '3+': 519,\n",
              " 'details': 520,\n",
              " 'different': 521,\n",
              " 'free': 522,\n",
              " 'tutorials': 523,\n",
              " 'unlike': 524,\n",
              " 'offers': 525,\n",
              " 'structured': 526,\n",
              " 'mentor-led': 527,\n",
              " 'learning': 528,\n",
              " 'personalized': 529,\n",
              " 'recognized': 530,\n",
              " 'further': 531,\n",
              " 'reach': 532,\n",
              " 'out': 533,\n",
              " 'excited': 534,\n",
              " 'help': 535,\n",
              " 'capture': 536,\n",
              " 'world': 537,\n",
              " 'lens': 538,\n",
              " '!': 539}"
            ]
          },
          "metadata": {},
          "execution_count": 44
        }
      ]
    },
    {
      "cell_type": "code",
      "source": [
        "len(vocab)"
      ],
      "metadata": {
        "colab": {
          "base_uri": "https://localhost:8080/"
        },
        "id": "CYNN5kVelS96",
        "outputId": "7b6d0c9c-da44-4992-a291-aac2d55e6461"
      },
      "execution_count": 45,
      "outputs": [
        {
          "output_type": "execute_result",
          "data": {
            "text/plain": [
              "540"
            ]
          },
          "metadata": {},
          "execution_count": 45
        }
      ]
    },
    {
      "cell_type": "code",
      "source": [
        "input_sentences = document.split('\\n') #extract all sentences"
      ],
      "metadata": {
        "id": "TOeRh9z9lTtP"
      },
      "execution_count": 46,
      "outputs": []
    },
    {
      "cell_type": "code",
      "source": [
        "#convert all words in sentneces to indices in vocab\n",
        "def text_to_indices(sentence, vocab):\n",
        "\n",
        "  numerical_sentence = []\n",
        "\n",
        "  for token in sentence:\n",
        "    if token in vocab:\n",
        "      numerical_sentence.append(vocab[token])\n",
        "    else:\n",
        "      numerical_sentence.append(vocab['<unk>'])\n",
        "\n",
        "  return numerical_sentence\n"
      ],
      "metadata": {
        "id": "Fs7BsJwBlaT9"
      },
      "execution_count": 47,
      "outputs": []
    },
    {
      "cell_type": "code",
      "source": [
        "input_numerical_sentences = []\n",
        "\n",
        "for sentence in input_sentences:\n",
        "  #appned numerical indices of each sentence to list\n",
        "  input_numerical_sentences.append(text_to_indices(word_tokenize(sentence.lower()), vocab))\n",
        "\n"
      ],
      "metadata": {
        "id": "pnHtUYp9luKP"
      },
      "execution_count": 48,
      "outputs": []
    },
    {
      "cell_type": "code",
      "source": [
        "len(input_numerical_sentences)"
      ],
      "metadata": {
        "colab": {
          "base_uri": "https://localhost:8080/"
        },
        "id": "-dYgIEqyl_Sk",
        "outputId": "afd59376-5b3f-416c-acc8-db60fcdb6606"
      },
      "execution_count": 49,
      "outputs": [
        {
          "output_type": "execute_result",
          "data": {
            "text/plain": [
              "188"
            ]
          },
          "metadata": {},
          "execution_count": 49
        }
      ]
    },
    {
      "cell_type": "code",
      "source": [
        "#Build suprevised data\n",
        "#build training sequences  eg : [3,5,1,2]  sequences-> [3,5], [3,5,1], [3,5,1,2]\n",
        "training_sequence = []\n",
        "for sentence in input_numerical_sentences:\n",
        "\n",
        "  for i in range(1, len(sentence)):\n",
        "    training_sequence.append(sentence[:i+1])\n",
        ""
      ],
      "metadata": {
        "id": "K1sE367hmWWJ"
      },
      "execution_count": 50,
      "outputs": []
    },
    {
      "cell_type": "code",
      "source": [
        "len(training_sequence) #no. of rows in dataset"
      ],
      "metadata": {
        "colab": {
          "base_uri": "https://localhost:8080/"
        },
        "id": "G8Z_fHnXm-sU",
        "outputId": "700cdcbc-43f6-4311-994f-64715d5897b8"
      },
      "execution_count": 51,
      "outputs": [
        {
          "output_type": "execute_result",
          "data": {
            "text/plain": [
              "1615"
            ]
          },
          "metadata": {},
          "execution_count": 51
        }
      ]
    },
    {
      "cell_type": "code",
      "source": [
        "training_sequence[:5]"
      ],
      "metadata": {
        "colab": {
          "base_uri": "https://localhost:8080/"
        },
        "id": "MTp4dT1AnPod",
        "outputId": "6889f305-2775-4e52-ff52-35a387da0024"
      },
      "execution_count": 52,
      "outputs": [
        {
          "output_type": "execute_result",
          "data": {
            "text/plain": [
              "[[1, 2], [1, 2, 3], [1, 2, 3, 4], [5, 6], [5, 6, 3]]"
            ]
          },
          "metadata": {},
          "execution_count": 52
        }
      ]
    },
    {
      "cell_type": "code",
      "source": [
        "# length of longest sentence in training sequences\n",
        "len_list = []\n",
        "\n",
        "for sequence in training_sequence:\n",
        "  len_list.append(len(sequence))\n",
        "\n",
        "max(len_list)"
      ],
      "metadata": {
        "colab": {
          "base_uri": "https://localhost:8080/"
        },
        "id": "7hxQ13tyni4t",
        "outputId": "317527d5-2c50-4c1c-b1c7-8ef7b89b01ae"
      },
      "execution_count": 53,
      "outputs": [
        {
          "output_type": "execute_result",
          "data": {
            "text/plain": [
              "52"
            ]
          },
          "metadata": {},
          "execution_count": 53
        }
      ]
    },
    {
      "cell_type": "code",
      "source": [
        "training_sequence[0]"
      ],
      "metadata": {
        "colab": {
          "base_uri": "https://localhost:8080/"
        },
        "id": "10CDHOn8nqvR",
        "outputId": "80df0284-6cfa-47ec-fcf6-3efddde88649"
      },
      "execution_count": 54,
      "outputs": [
        {
          "output_type": "execute_result",
          "data": {
            "text/plain": [
              "[1, 2]"
            ]
          },
          "metadata": {},
          "execution_count": 54
        }
      ]
    },
    {
      "cell_type": "markdown",
      "source": [
        "LSTMs require input sequences to have the same length. However, during training, sequences often vary in length. To handle this, we apply padding to shorter sequences so that all sequences match the length of the longest one"
      ],
      "metadata": {
        "id": "5be_BE1nnx5k"
      }
    },
    {
      "cell_type": "code",
      "source": [
        "#zero padding\n",
        "padded_training_sequence = []\n",
        "for sequence in training_sequence:\n",
        "\n",
        "  padded_training_sequence.append([0]*(max(len_list) - len(sequence)) + sequence)"
      ],
      "metadata": {
        "id": "tbqdg0dantLv"
      },
      "execution_count": 55,
      "outputs": []
    },
    {
      "cell_type": "code",
      "source": [
        "len(padded_training_sequence[10])"
      ],
      "metadata": {
        "colab": {
          "base_uri": "https://localhost:8080/"
        },
        "id": "uE-LhZvvnvzP",
        "outputId": "b1b9678f-c244-4afc-e120-22c753c1b8d7"
      },
      "execution_count": 56,
      "outputs": [
        {
          "output_type": "execute_result",
          "data": {
            "text/plain": [
              "52"
            ]
          },
          "metadata": {},
          "execution_count": 56
        }
      ]
    },
    {
      "cell_type": "code",
      "source": [
        "padded_training_sequence = torch.tensor(padded_training_sequence, dtype=torch.long)"
      ],
      "metadata": {
        "id": "OB2IlxQWoWun"
      },
      "execution_count": 57,
      "outputs": []
    },
    {
      "cell_type": "code",
      "source": [
        "padded_training_sequence = torch.tensor(padded_training_sequence, dtype=torch.long)"
      ],
      "metadata": {
        "colab": {
          "base_uri": "https://localhost:8080/"
        },
        "id": "CsbKxxTtoYSg",
        "outputId": "5bb811c5-3b43-4e09-c7e6-61fca361f8b6"
      },
      "execution_count": 58,
      "outputs": [
        {
          "output_type": "stream",
          "name": "stderr",
          "text": [
            "<ipython-input-58-1bcef3604414>:1: UserWarning: To copy construct from a tensor, it is recommended to use sourceTensor.clone().detach() or sourceTensor.clone().detach().requires_grad_(True), rather than torch.tensor(sourceTensor).\n",
            "  padded_training_sequence = torch.tensor(padded_training_sequence, dtype=torch.long)\n"
          ]
        }
      ]
    },
    {
      "cell_type": "code",
      "source": [
        "padded_training_sequence"
      ],
      "metadata": {
        "colab": {
          "base_uri": "https://localhost:8080/"
        },
        "id": "QNTfWPYGoYz2",
        "outputId": "207465ec-1744-44cd-f03e-23f9e99fa993"
      },
      "execution_count": 59,
      "outputs": [
        {
          "output_type": "execute_result",
          "data": {
            "text/plain": [
              "tensor([[  0,   0,   0,  ...,   0,   1,   2],\n",
              "        [  0,   0,   0,  ...,   1,   2,   3],\n",
              "        [  0,   0,   0,  ...,   2,   3,   4],\n",
              "        ...,\n",
              "        [  0,   0,   0,  ..., 537, 150, 172],\n",
              "        [  0,   0,   0,  ..., 150, 172, 538],\n",
              "        [  0,   0,   0,  ..., 172, 538, 539]])"
            ]
          },
          "metadata": {},
          "execution_count": 59
        }
      ]
    },
    {
      "cell_type": "code",
      "source": [
        "X = padded_training_sequence[:, :-1] #input\n",
        "y = padded_training_sequence[:,-1] #target"
      ],
      "metadata": {
        "id": "4okQGtV1obiH"
      },
      "execution_count": 60,
      "outputs": []
    },
    {
      "cell_type": "markdown",
      "source": [
        "# DataLoader"
      ],
      "metadata": {
        "id": "saaNlqIhoi7d"
      }
    },
    {
      "cell_type": "code",
      "source": [
        "class CustomDataset(Dataset):\n",
        "\n",
        "  def __init__(self, X, y):\n",
        "    self.X = X #input\n",
        "    self.y = y #output\n",
        "\n",
        "  def __len__(self):\n",
        "    return self.X.shape[0]\n",
        "\n",
        "  def __getitem__(self, idx):\n",
        "    return self.X[idx], self.y[idx]"
      ],
      "metadata": {
        "id": "T8mgCzQzofgm"
      },
      "execution_count": 61,
      "outputs": []
    },
    {
      "cell_type": "code",
      "source": [
        "dataset = CustomDataset(X,y)"
      ],
      "metadata": {
        "id": "r1bB0-eloo4m"
      },
      "execution_count": 62,
      "outputs": []
    },
    {
      "cell_type": "code",
      "source": [
        "len(dataset)"
      ],
      "metadata": {
        "colab": {
          "base_uri": "https://localhost:8080/"
        },
        "id": "4NVR-veBorTX",
        "outputId": "c1d1dd90-033c-4a15-92c8-9a7161caa333"
      },
      "execution_count": 63,
      "outputs": [
        {
          "output_type": "execute_result",
          "data": {
            "text/plain": [
              "1615"
            ]
          },
          "metadata": {},
          "execution_count": 63
        }
      ]
    },
    {
      "cell_type": "code",
      "source": [
        "dataloader = DataLoader(dataset, batch_size=32, shuffle=True) # process 32 sentences in a batch"
      ],
      "metadata": {
        "id": "0aXuQDgKos12"
      },
      "execution_count": 64,
      "outputs": []
    },
    {
      "cell_type": "code",
      "source": [
        "class LSTMModel(nn.Module):\n",
        "\n",
        "  def __init__(self, vocab_size):\n",
        "    super().__init__()\n",
        "    self.embedding = nn.Embedding(vocab_size, 100) #embedding layer each word -> vector of 100 dim\n",
        "    self.lstm = nn.LSTM(100, 150, batch_first=True) # lstm layer -> 150 neurons in each lstm cell\n",
        "    self.fc = nn.Linear(150, vocab_size) # output layer\n",
        "\n",
        "  def forward(self, x):\n",
        "    embedded = self.embedding(x)\n",
        "    intermediate_hidden_states, (final_hidden_state, final_cell_state) = self.lstm(embedded)\n",
        "    output = self.fc(final_hidden_state.squeeze(0))\n",
        "    return output"
      ],
      "metadata": {
        "id": "X07sWKNsouuD"
      },
      "execution_count": 65,
      "outputs": []
    },
    {
      "cell_type": "code",
      "source": [
        "model = LSTMModel(len(vocab))"
      ],
      "metadata": {
        "id": "WvUahpRspCD5"
      },
      "execution_count": 66,
      "outputs": []
    },
    {
      "cell_type": "code",
      "source": [
        "device = torch.device(\"cuda\" if torch.cuda.is_available() else \"cpu\")"
      ],
      "metadata": {
        "id": "uZwyQbwspNEJ"
      },
      "execution_count": 67,
      "outputs": []
    },
    {
      "cell_type": "code",
      "source": [
        "model.to(device)"
      ],
      "metadata": {
        "colab": {
          "base_uri": "https://localhost:8080/"
        },
        "id": "lBQUa8gapN1s",
        "outputId": "545f5f2c-4ea9-45a9-9a38-9bb0930aa5d3"
      },
      "execution_count": 68,
      "outputs": [
        {
          "output_type": "execute_result",
          "data": {
            "text/plain": [
              "LSTMModel(\n",
              "  (embedding): Embedding(540, 100)\n",
              "  (lstm): LSTM(100, 150, batch_first=True)\n",
              "  (fc): Linear(in_features=150, out_features=540, bias=True)\n",
              ")"
            ]
          },
          "metadata": {},
          "execution_count": 68
        }
      ]
    },
    {
      "cell_type": "code",
      "source": [
        "epochs = 50\n",
        "learning_rate = 0.001\n",
        "\n",
        "criterion = nn.CrossEntropyLoss()\n",
        "\n",
        "optimizer = torch.optim.Adam(model.parameters(), lr=learning_rate)"
      ],
      "metadata": {
        "id": "4ZhZL1eZpPrD"
      },
      "execution_count": 69,
      "outputs": []
    },
    {
      "cell_type": "code",
      "source": [
        "# training loop\n",
        "\n",
        "for epoch in range(epochs):\n",
        "  total_loss = 0\n",
        "\n",
        "  for batch_x, batch_y in dataloader:\n",
        "\n",
        "    batch_x, batch_y = batch_x.to(device), batch_y.to(device)\n",
        "\n",
        "    optimizer.zero_grad() #clear gradients\n",
        "\n",
        "    output = model(batch_x) # output from lstm\n",
        "\n",
        "    loss = criterion(output, batch_y) # loss on model output\n",
        "\n",
        "    loss.backward() # backward propagation\n",
        "\n",
        "    optimizer.step() # update gradients\n",
        "\n",
        "    total_loss = total_loss + loss.item()\n",
        "\n",
        "  print(f\"Epoch: {epoch + 1}, Loss: {total_loss:.4f}\")"
      ],
      "metadata": {
        "colab": {
          "base_uri": "https://localhost:8080/"
        },
        "id": "mKMIlE3FpR45",
        "outputId": "0d7fca5b-214e-4d40-9a91-1febe1365ff9"
      },
      "execution_count": 70,
      "outputs": [
        {
          "output_type": "stream",
          "name": "stdout",
          "text": [
            "Epoch: 1, Loss: 302.4028\n",
            "Epoch: 2, Loss: 267.6847\n",
            "Epoch: 3, Loss: 250.2510\n",
            "Epoch: 4, Loss: 230.9732\n",
            "Epoch: 5, Loss: 211.0878\n",
            "Epoch: 6, Loss: 190.9305\n",
            "Epoch: 7, Loss: 171.9666\n",
            "Epoch: 8, Loss: 153.9448\n",
            "Epoch: 9, Loss: 136.7065\n",
            "Epoch: 10, Loss: 121.0594\n",
            "Epoch: 11, Loss: 106.2065\n",
            "Epoch: 12, Loss: 92.4689\n",
            "Epoch: 13, Loss: 80.6992\n",
            "Epoch: 14, Loss: 69.7899\n",
            "Epoch: 15, Loss: 60.3134\n",
            "Epoch: 16, Loss: 52.4003\n",
            "Epoch: 17, Loss: 45.6856\n",
            "Epoch: 18, Loss: 39.6009\n",
            "Epoch: 19, Loss: 34.5700\n",
            "Epoch: 20, Loss: 30.2603\n",
            "Epoch: 21, Loss: 26.8795\n",
            "Epoch: 22, Loss: 24.1560\n",
            "Epoch: 23, Loss: 21.5009\n",
            "Epoch: 24, Loss: 19.4134\n",
            "Epoch: 25, Loss: 17.7287\n",
            "Epoch: 26, Loss: 16.2574\n",
            "Epoch: 27, Loss: 15.0992\n",
            "Epoch: 28, Loss: 13.9329\n",
            "Epoch: 29, Loss: 13.2256\n",
            "Epoch: 30, Loss: 12.4707\n",
            "Epoch: 31, Loss: 11.6681\n",
            "Epoch: 32, Loss: 11.0198\n",
            "Epoch: 33, Loss: 10.6209\n",
            "Epoch: 34, Loss: 10.1508\n",
            "Epoch: 35, Loss: 9.8431\n",
            "Epoch: 36, Loss: 9.4600\n",
            "Epoch: 37, Loss: 9.0551\n",
            "Epoch: 38, Loss: 8.7455\n",
            "Epoch: 39, Loss: 8.5907\n",
            "Epoch: 40, Loss: 8.3497\n",
            "Epoch: 41, Loss: 8.0199\n",
            "Epoch: 42, Loss: 7.9073\n",
            "Epoch: 43, Loss: 7.7140\n",
            "Epoch: 44, Loss: 7.5427\n",
            "Epoch: 45, Loss: 7.3895\n",
            "Epoch: 46, Loss: 7.3438\n",
            "Epoch: 47, Loss: 7.0224\n",
            "Epoch: 48, Loss: 7.1155\n",
            "Epoch: 49, Loss: 6.9144\n",
            "Epoch: 50, Loss: 6.9893\n"
          ]
        }
      ]
    },
    {
      "cell_type": "code",
      "source": [
        "# prediction\n",
        "\n",
        "def prediction(model, vocab, text):\n",
        "\n",
        "  # Repeating above sreps for input sentence : text\n",
        "\n",
        "  # tokenize\n",
        "  tokenized_text = word_tokenize(text.lower())\n",
        "\n",
        "  # text -> numerical indices\n",
        "  numerical_text = text_to_indices(tokenized_text, vocab)\n",
        "\n",
        "  # padding\n",
        "  padded_text = torch.tensor([0] * (61 - len(numerical_text)) + numerical_text, dtype=torch.long).unsqueeze(0)\n",
        "\n",
        "  # send to model\n",
        "  output = model(padded_text)\n",
        "\n",
        "  # predicted index\n",
        "  value, index = torch.max(output, dim=1)\n",
        "\n",
        "  # merge with text\n",
        "  return text + \" \" + list(vocab.keys())[index]\n",
        "\n"
      ],
      "metadata": {
        "id": "x_dopDX3pZto"
      },
      "execution_count": 71,
      "outputs": []
    },
    {
      "cell_type": "code",
      "source": [
        "prediction(model, vocab, \"The course follows a monthly\")"
      ],
      "metadata": {
        "colab": {
          "base_uri": "https://localhost:8080/",
          "height": 35
        },
        "id": "EU12ugxIpcWn",
        "outputId": "981217ab-2b17-4827-bbbc-85911478a039"
      },
      "execution_count": 72,
      "outputs": [
        {
          "output_type": "execute_result",
          "data": {
            "text/plain": [
              "'The course follows a monthly subscription'"
            ],
            "application/vnd.google.colaboratory.intrinsic+json": {
              "type": "string"
            }
          },
          "metadata": {},
          "execution_count": 72
        }
      ]
    },
    {
      "cell_type": "code",
      "source": [
        "import time\n",
        "\n",
        "num_tokens = 10\n",
        "input_text = \"No, specialized topics \"\n",
        "\n",
        "for i in range(num_tokens):\n",
        "  output_text = prediction(model, vocab, input_text)\n",
        "  print(output_text)\n",
        "  input_text = output_text\n",
        "  time.sleep(0.5)\n"
      ],
      "metadata": {
        "colab": {
          "base_uri": "https://localhost:8080/"
        },
        "id": "NgF7SoixpdvH",
        "outputId": "de9abc21-e7a9-43df-d5ac-f691ee09af65"
      },
      "execution_count": 76,
      "outputs": [
        {
          "output_type": "stream",
          "name": "stdout",
          "text": [
            "No, specialized topics  such\n",
            "No, specialized topics  such as\n",
            "No, specialized topics  such as astrophotography\n",
            "No, specialized topics  such as astrophotography ,\n",
            "No, specialized topics  such as astrophotography , underwater\n",
            "No, specialized topics  such as astrophotography , underwater photography\n",
            "No, specialized topics  such as astrophotography , underwater photography ,\n",
            "No, specialized topics  such as astrophotography , underwater photography , or\n",
            "No, specialized topics  such as astrophotography , underwater photography , or wildlife\n",
            "No, specialized topics  such as astrophotography , underwater photography , or wildlife photography\n"
          ]
        }
      ]
    },
    {
      "cell_type": "code",
      "source": [
        "dataloader1 = DataLoader(dataset, batch_size=32, shuffle=False)"
      ],
      "metadata": {
        "id": "SX9H-ASnpgXO"
      },
      "execution_count": 74,
      "outputs": []
    },
    {
      "cell_type": "code",
      "source": [
        "# Function to calculate accuracy\n",
        "def calculate_accuracy(model, dataloader, device):\n",
        "    model.eval()  # Set the model to evaluation mode\n",
        "    correct = 0\n",
        "    total = 0\n",
        "\n",
        "    with torch.no_grad():  # No need to compute gradients\n",
        "        for batch_x, batch_y in dataloader1:\n",
        "            batch_x, batch_y = batch_x.to(device), batch_y.to(device)\n",
        "\n",
        "            # Get model predictions\n",
        "            outputs = model(batch_x)\n",
        "\n",
        "            # Get the predicted word indices\n",
        "            _, predicted = torch.max(outputs, dim=1)\n",
        "\n",
        "            # Compare with actual labels\n",
        "            correct += (predicted == batch_y).sum().item()\n",
        "            total += batch_y.size(0)\n",
        "\n",
        "    accuracy = correct / total * 100\n",
        "    return accuracy\n",
        "\n",
        "# Compute accuracy\n",
        "accuracy = calculate_accuracy(model, dataloader, device)\n",
        "print(f\"Model Accuracy: {accuracy:.2f}%\")\n"
      ],
      "metadata": {
        "colab": {
          "base_uri": "https://localhost:8080/"
        },
        "id": "AnsYDTRJpiKN",
        "outputId": "03aa632a-5c52-4bf1-9aa1-d4b523b247a0"
      },
      "execution_count": 75,
      "outputs": [
        {
          "output_type": "stream",
          "name": "stdout",
          "text": [
            "Model Accuracy: 95.91%\n"
          ]
        }
      ]
    }
  ]
}